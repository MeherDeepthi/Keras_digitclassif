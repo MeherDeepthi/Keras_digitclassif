{
  "cells": [
    {
      "cell_type": "code",
      "execution_count": null,
      "metadata": {
        "colab": {
          "base_uri": "https://localhost:8080/"
        },
        "id": "HEndUrLKfsv5",
        "outputId": "2f09ba81-01d9-4f34-de39-bdae92f15b31"
      },
      "outputs": [
        {
          "name": "stdout",
          "output_type": "stream",
          "text": [
            "2.8.0\n"
          ]
        }
      ],
      "source": [
        "import tensorflow\n",
        "print(tensorflow.__version__)"
      ]
    },
    {
      "cell_type": "code",
      "execution_count": null,
      "metadata": {
        "id": "EtE5WqF01eLO"
      },
      "outputs": [],
      "source": [
        "import numpy as np"
      ]
    },
    {
      "cell_type": "code",
      "execution_count": null,
      "metadata": {
        "colab": {
          "base_uri": "https://localhost:8080/"
        },
        "id": "IK1OgdDMgHgp",
        "outputId": "545c5aba-9105-4f72-ba8b-f2e9011b359d"
      },
      "outputs": [
        {
          "name": "stdout",
          "output_type": "stream",
          "text": [
            "Downloading data from https://storage.googleapis.com/tensorflow/tf-keras-datasets/mnist.npz\n",
            "11493376/11490434 [==============================] - 0s 0us/step\n",
            "11501568/11490434 [==============================] - 0s 0us/step\n"
          ]
        }
      ],
      "source": [
        "from tensorflow.keras.datasets import mnist\n",
        "(x_train, labels_train), (x_test, labels_test) = mnist.load_data()"
      ]
    },
    {
      "cell_type": "code",
      "execution_count": null,
      "metadata": {
        "id": "UH9n1MNegOrH"
      },
      "outputs": [],
      "source": [
        "x_train = x_train.astype('float32')\n",
        "x_test = x_test.astype('float32')\n",
        "x_train /= 255\n",
        "x_test /= 255"
      ]
    },
    {
      "cell_type": "code",
      "execution_count": null,
      "metadata": {
        "colab": {
          "base_uri": "https://localhost:8080/"
        },
        "id": "RK0WPsjRLpBL",
        "outputId": "019dc645-5556-4da3-85bb-b2ba05a4f6e6"
      },
      "outputs": [
        {
          "data": {
            "text/plain": [
              "array([5, 0, 4, ..., 5, 6, 8], dtype=uint8)"
            ]
          },
          "execution_count": 6,
          "metadata": {},
          "output_type": "execute_result"
        }
      ],
      "source": [
        "labels_train"
      ]
    },
    {
      "cell_type": "code",
      "execution_count": null,
      "metadata": {
        "id": "7EaM5b0EgZsJ"
      },
      "outputs": [],
      "source": [
        "from tensorflow.keras.utils import to_categorical\n",
        "y_train = to_categorical(labels_train, 10)\n",
        "y_test = to_categorical(labels_test, 10)"
      ]
    },
    {
      "cell_type": "code",
      "execution_count": null,
      "metadata": {
        "id": "cLmZH7Ravs9B"
      },
      "outputs": [],
      "source": [
        "#mlp\n",
        "x_train = x_train.reshape(60000, 784)\n",
        "x_test = x_test.reshape(10000, 784)"
      ]
    },
    {
      "cell_type": "code",
      "execution_count": null,
      "metadata": {
        "id": "4OjLdzM4v4cl"
      },
      "outputs": [],
      "source": [
        "#cnn\n",
        "x_train = x_train.reshape(x_train.shape[0], 28, 28, 1)\n",
        "x_test = x_test.reshape(x_test.shape[0], 28, 28, 1)"
      ]
    },
    {
      "cell_type": "code",
      "execution_count": null,
      "metadata": {
        "id": "mqLu7W9cv6fs"
      },
      "outputs": [],
      "source": [
        "#mlp method 1\n",
        "from tensorflow.keras.models import Sequential\n",
        "from tensorflow.keras.layers import Dense\n",
        "net = Sequential()\n",
        "net.add(Dense(800, activation='relu', input_shape=(784,)))\n",
        "net.add(Dense(400, activation='relu'))\n",
        "net.add(Dense(10, activation='softmax'))"
      ]
    },
    {
      "cell_type": "code",
      "execution_count": null,
      "metadata": {
        "id": "SU1U0PLlain-"
      },
      "outputs": [],
      "source": [
        "from tensorflow.keras.models import Sequential\n",
        "from keras.layers import Conv2D, MaxPool2D, Dense, Flatten, Dropout, BatchNormalization, Input\n",
        "\n",
        "#cnn method 1\n",
        "net = Sequential()\n",
        "net.add(Conv2D(filters=32, kernel_size=(5,5), activation='relu',\n",
        "input_shape=(28,28,1)))\n",
        "net.add(MaxPool2D(pool_size=(2, 2)))\n",
        "net.add(Conv2D(32, (3, 3), activation='relu'))\n",
        "net.add(MaxPool2D(pool_size=(2, 2)))\n",
        "net.add(Flatten())\n",
        "net.add(Dense(256, activation='relu'))\n",
        "net.add(Dropout(rate=0.5))\n",
        "net.add(Dense(10, activation='softmax'))"
      ]
    },
    {
      "cell_type": "code",
      "execution_count": null,
      "metadata": {
        "id": "o6ygduQ7A17H"
      },
      "outputs": [],
      "source": [
        "#method 2 mlp\n",
        "from tensorflow.keras.models import Model\n",
        "from tensorflow.keras.layers import Input, Dense\n",
        "input_img = Input(shape=(784,)) # define a placeholder for the input data\n",
        "x = Dense(800, activation='relu')(input_img)\n",
        "y = Dense(400, activation='relu')(x)\n",
        "z = Dense(10, activation='softmax')(y)\n",
        "net = Model(input_img, z)"
      ]
    },
    {
      "cell_type": "code",
      "execution_count": null,
      "metadata": {
        "colab": {
          "base_uri": "https://localhost:8080/",
          "height": 374
        },
        "id": "sQi7hR_iB_Pk",
        "outputId": "9bfafd7b-29d8-4115-faa3-9ec76695af2a"
      },
      "outputs": [
        {
          "ename": "ModuleNotFoundError",
          "evalue": "ignored",
          "output_type": "error",
          "traceback": [
            "\u001b[0;31m---------------------------------------------------------------------------\u001b[0m",
            "\u001b[0;31mModuleNotFoundError\u001b[0m                       Traceback (most recent call last)",
            "\u001b[0;32m<ipython-input-45-71d047283489>\u001b[0m in \u001b[0;36m<module>\u001b[0;34m()\u001b[0m\n\u001b[1;32m      2\u001b[0m \u001b[0;32mfrom\u001b[0m \u001b[0mtensorflow\u001b[0m\u001b[0;34m.\u001b[0m\u001b[0mkeras\u001b[0m\u001b[0;34m.\u001b[0m\u001b[0mmodels\u001b[0m \u001b[0;32mimport\u001b[0m \u001b[0mModel\u001b[0m\u001b[0;34m\u001b[0m\u001b[0;34m\u001b[0m\u001b[0m\n\u001b[1;32m      3\u001b[0m \u001b[0;32mfrom\u001b[0m \u001b[0mtensorflow\u001b[0m\u001b[0;34m.\u001b[0m\u001b[0mkeras\u001b[0m\u001b[0;34m.\u001b[0m\u001b[0mlayers\u001b[0m \u001b[0;32mimport\u001b[0m \u001b[0mInput\u001b[0m\u001b[0;34m,\u001b[0m \u001b[0mDense\u001b[0m\u001b[0;34m\u001b[0m\u001b[0;34m\u001b[0m\u001b[0m\n\u001b[0;32m----> 4\u001b[0;31m \u001b[0;32mfrom\u001b[0m \u001b[0mtensorflow\u001b[0m\u001b[0;34m.\u001b[0m\u001b[0mkeras\u001b[0m\u001b[0;34m.\u001b[0m\u001b[0mlayers\u001b[0m\u001b[0;34m.\u001b[0m\u001b[0mmerge\u001b[0m \u001b[0;32mimport\u001b[0m \u001b[0mconcatenate\u001b[0m\u001b[0;34m\u001b[0m\u001b[0;34m\u001b[0m\u001b[0m\n\u001b[0m\u001b[1;32m      5\u001b[0m \u001b[0minput_img\u001b[0m \u001b[0;34m=\u001b[0m \u001b[0mInput\u001b[0m\u001b[0;34m(\u001b[0m\u001b[0mshape\u001b[0m\u001b[0;34m=\u001b[0m\u001b[0;34m(\u001b[0m\u001b[0;36m784\u001b[0m\u001b[0;34m,\u001b[0m\u001b[0;34m)\u001b[0m\u001b[0;34m)\u001b[0m \u001b[0;31m# define a placeholder for the input data\u001b[0m\u001b[0;34m\u001b[0m\u001b[0;34m\u001b[0m\u001b[0m\n\u001b[1;32m      6\u001b[0m \u001b[0mx\u001b[0m \u001b[0;34m=\u001b[0m \u001b[0mDense\u001b[0m\u001b[0;34m(\u001b[0m\u001b[0;36m800\u001b[0m\u001b[0;34m,\u001b[0m \u001b[0mactivation\u001b[0m\u001b[0;34m=\u001b[0m\u001b[0;34m'relu'\u001b[0m\u001b[0;34m)\u001b[0m\u001b[0;34m(\u001b[0m\u001b[0minput_img\u001b[0m\u001b[0;34m)\u001b[0m\u001b[0;34m\u001b[0m\u001b[0;34m\u001b[0m\u001b[0m\n",
            "\u001b[0;31mModuleNotFoundError\u001b[0m: No module named 'tensorflow.keras.layers.merge'",
            "",
            "\u001b[0;31m---------------------------------------------------------------------------\u001b[0;32m\nNOTE: If your import is failing due to a missing package, you can\nmanually install dependencies using either !pip or !apt.\n\nTo view examples of installing some common dependencies, click the\n\"Open Examples\" button below.\n\u001b[0;31m---------------------------------------------------------------------------\u001b[0m\n"
          ]
        }
      ],
      "source": [
        "#method 2 mlp 2 \n",
        "from tensorflow.keras.models import Model\n",
        "from tensorflow.keras.layers import Input, Dense\n",
        "from tensorflow.keras.layers.merge import concatenate\n",
        "input_img = Input(shape=(784,)) # define a placeholder for the input data\n",
        "x = Dense(800, activation='relu')(input_img)\n",
        "y1= Dense(100, activation='tanh')(x)\n",
        "y2= Dense(200, activation='relu')(x)\n",
        "y = concatenate([y1, y2])\n",
        "z = Dense(10, activation='softmax')(y)\n",
        "net = Model(input_img, z)"
      ]
    },
    {
      "cell_type": "code",
      "execution_count": null,
      "metadata": {
        "id": "6pYNr26uCKAE"
      },
      "outputs": [],
      "source": [
        "#cnn method 2 \n",
        "from tensorflow.keras.models import Model\n",
        "from tensorflow.keras.layers import Conv2D, MaxPool2D, Dense, Flatten, Dropout, Input\n",
        "inputs = Input(shape=x_train.shape[1:])\n",
        "x = Conv2D(filters=32, kernel_size=(5,5), activation='relu')(inputs)\n",
        "x = MaxPool2D(pool_size=(2, 2))(x)\n",
        "x = Conv2D(filters=32, kernel_size=(3,3), activation='relu')(x)\n",
        "x = MaxPool2D(pool_size=(2, 2))(x)\n",
        "x = Flatten()(x)\n",
        "x = Dense(256, activation='relu')(x)\n",
        "x = Dropout(rate=0.5)(x)\n",
        "outputs = Dense(10, activation='softmax')(x)\n",
        "net = Model(inputs=inputs, outputs=outputs)"
      ]
    },
    {
      "cell_type": "code",
      "execution_count": null,
      "metadata": {
        "id": "bighcJx1tPOp"
      },
      "outputs": [],
      "source": [
        "#new method\n",
        "from tensorflow.keras.models import Model\n",
        "from tensorflow.keras.layers import Conv2D, MaxPool2D, Dense, Flatten, Dropout, Input\n"
      ]
    },
    {
      "cell_type": "code",
      "execution_count": null,
      "metadata": {
        "id": "YLeDZ2P-8JQA"
      },
      "outputs": [],
      "source": [
        "nets = 15\n",
        "model = [0] *nets\n",
        "for j in range(nets):\n",
        "    model[j] = Sequential()\n",
        "\n",
        "    model[j].add(Conv2D(32, kernel_size = 3, activation='relu', input_shape = (28, 28, 1)))\n",
        "    model[j].add(BatchNormalization())\n",
        "    model[j].add(Conv2D(32, kernel_size = 3, activation='relu'))\n",
        "    model[j].add(BatchNormalization())\n",
        "    model[j].add(Conv2D(32, kernel_size = 5, strides=2, padding='same', activation='relu'))\n",
        "    model[j].add(BatchNormalization())\n",
        "    model[j].add(Dropout(0.4))\n",
        "\n",
        "    model[j].add(Conv2D(64, kernel_size = 3, activation='relu'))\n",
        "    model[j].add(BatchNormalization())\n",
        "    model[j].add(Conv2D(64, kernel_size = 3, activation='relu'))\n",
        "    model[j].add(BatchNormalization())\n",
        "    model[j].add(Conv2D(64, kernel_size = 5, strides=2, padding='same', activation='relu'))\n",
        "    model[j].add(BatchNormalization())\n",
        "    model[j].add(Dropout(0.4))\n",
        "\n",
        "    model[j].add(Conv2D(128, kernel_size = 4, activation='relu'))\n",
        "    model[j].add(BatchNormalization())\n",
        "    model[j].add(Flatten())\n",
        "    model[j].add(Dropout(0.4))\n",
        "    model[j].add(Dense(10, activation='softmax'))\n",
        "    # COMPILE WITH ADAM OPTIMIZER AND CROSS ENTROPY COST\n",
        "    model[j].compile(optimizer=\"adam\", loss=\"categorical_crossentropy\", metrics=[\"accuracy\"])"
      ]
    },
    {
      "cell_type": "code",
      "execution_count": null,
      "metadata": {
        "id": "bqOEYztU1r6v"
      },
      "outputs": [],
      "source": [
        "# DECREASE LEARNING RATE EACH EPOCH\n",
        "annealer = LearningRateScheduler(lambda x: 1e-3 * 0.95 ** x)\n",
        "# TRAIN NETWORKS\n",
        "history = [0] * nets\n",
        "epochs = 45\n",
        "for j in range(nets):\n",
        "    X_train2, X_val2, Y_train2, Y_val2 = train_test_split(X_train, Y_train, test_size = 0.1)\n",
        "    history[j] = model[j].fit_generator(datagen.flow(X_train2,Y_train2, batch_size=64),\n",
        "        epochs = epochs, steps_per_epoch = X_train2.shape[0]//64,  \n",
        "        validation_data = (X_val2,Y_val2), callbacks=[annealer], verbose=0)\n",
        "    print(\"CNN {0:d}: Epochs={1:d}, Train accuracy={2:.5f}, Validation accuracy={3:.5f}\".format(\n",
        "        j+1,epochs,max(history[j].history['acc']),max(history[j].history['val_acc']) ))"
      ]
    },
    {
      "cell_type": "code",
      "execution_count": null,
      "metadata": {
        "id": "mhJBPI-l2Guj"
      },
      "outputs": [],
      "source": [
        "from tensorflow.keras.models import Sequential\n",
        "from keras.layers import Conv2D, MaxPool2D, Dense, Flatten, Dropout, BatchNormalization, Input\n",
        "\n",
        "net = Sequential()\n",
        "\n",
        "net.add(Conv2D(32, kernel_size = 3, activation='relu', input_shape = (28, 28, 1)))\n",
        "net.add(BatchNormalization())\n",
        "net.add(Conv2D(32, kernel_size = 3, activation='relu'))\n",
        "net.add(BatchNormalization())\n",
        "net.add(Conv2D(32, kernel_size = 5, strides=2, padding='same', activation='relu'))\n",
        "net.add(BatchNormalization())\n",
        "net.add(Dropout(0.4))\n",
        "\n",
        "net.add(Conv2D(64, kernel_size = 3, activation='relu'))\n",
        "net.add(BatchNormalization())\n",
        "net.add(Conv2D(64, kernel_size = 3, activation='relu'))\n",
        "net.add(BatchNormalization())\n",
        "net.add(Conv2D(64, kernel_size = 5, strides=2, padding='same', activation='relu'))\n",
        "net.add(BatchNormalization())\n",
        "net.add(Dropout(0.4))\n",
        "\n",
        "net.add(Conv2D(128, kernel_size = 4, activation='relu'))\n",
        "net.add(BatchNormalization())\n",
        "net.add(Flatten())\n",
        "net.add(Dropout(0.4))\n",
        "net.add(Dense(10, activation='softmax'))\n",
        "# COMPILE WITH ADAM OPTIMIZER AND CROSS ENTROPY COST\n",
        "net.compile(optimizer=\"adam\", loss=\"categorical_crossentropy\", metrics=[\"accuracy\"])"
      ]
    },
    {
      "cell_type": "code",
      "execution_count": null,
      "metadata": {
        "colab": {
          "base_uri": "https://localhost:8080/"
        },
        "id": "4qvKGhlJqtsK",
        "outputId": "677d57c4-99be-4f1f-cf56-061ee35cf5f8"
      },
      "outputs": [
        {
          "name": "stdout",
          "output_type": "stream",
          "text": [
            "Model: \"sequential\"\n",
            "_________________________________________________________________\n",
            " Layer (type)                Output Shape              Param #   \n",
            "=================================================================\n",
            " conv2d (Conv2D)             (None, 26, 26, 32)        320       \n",
            "                                                                 \n",
            " batch_normalization (BatchN  (None, 26, 26, 32)       128       \n",
            " ormalization)                                                   \n",
            "                                                                 \n",
            " conv2d_1 (Conv2D)           (None, 24, 24, 32)        9248      \n",
            "                                                                 \n",
            " batch_normalization_1 (Batc  (None, 24, 24, 32)       128       \n",
            " hNormalization)                                                 \n",
            "                                                                 \n",
            " conv2d_2 (Conv2D)           (None, 12, 12, 32)        25632     \n",
            "                                                                 \n",
            " batch_normalization_2 (Batc  (None, 12, 12, 32)       128       \n",
            " hNormalization)                                                 \n",
            "                                                                 \n",
            " dropout (Dropout)           (None, 12, 12, 32)        0         \n",
            "                                                                 \n",
            " conv2d_3 (Conv2D)           (None, 10, 10, 64)        18496     \n",
            "                                                                 \n",
            " batch_normalization_3 (Batc  (None, 10, 10, 64)       256       \n",
            " hNormalization)                                                 \n",
            "                                                                 \n",
            " conv2d_4 (Conv2D)           (None, 8, 8, 64)          36928     \n",
            "                                                                 \n",
            " batch_normalization_4 (Batc  (None, 8, 8, 64)         256       \n",
            " hNormalization)                                                 \n",
            "                                                                 \n",
            " conv2d_5 (Conv2D)           (None, 4, 4, 64)          102464    \n",
            "                                                                 \n",
            " batch_normalization_5 (Batc  (None, 4, 4, 64)         256       \n",
            " hNormalization)                                                 \n",
            "                                                                 \n",
            " dropout_1 (Dropout)         (None, 4, 4, 64)          0         \n",
            "                                                                 \n",
            " conv2d_6 (Conv2D)           (None, 1, 1, 128)         131200    \n",
            "                                                                 \n",
            " batch_normalization_6 (Batc  (None, 1, 1, 128)        512       \n",
            " hNormalization)                                                 \n",
            "                                                                 \n",
            " flatten (Flatten)           (None, 128)               0         \n",
            "                                                                 \n",
            " dropout_2 (Dropout)         (None, 128)               0         \n",
            "                                                                 \n",
            " dense (Dense)               (None, 10)                1290      \n",
            "                                                                 \n",
            "=================================================================\n",
            "Total params: 327,242\n",
            "Trainable params: 326,410\n",
            "Non-trainable params: 832\n",
            "_________________________________________________________________\n"
          ]
        }
      ],
      "source": [
        "net.summary()"
      ]
    },
    {
      "cell_type": "code",
      "execution_count": null,
      "metadata": {
        "colab": {
          "base_uri": "https://localhost:8080/",
          "height": 976
        },
        "id": "NPBTV-GAq70l",
        "outputId": "82fa464e-fe9f-4dee-e3bb-16682c018e96"
      },
      "outputs": [
        {
          "data": {
            "image/png": "[encoded data removed]",
            "text/plain": [
              "<IPython.core.display.Image object>"
            ]
          },
          "execution_count": 50,
          "metadata": {},
          "output_type": "execute_result"
        }
      ],
      "source": [
        "from tensorflow.keras.utils import plot_model\n",
        "plot_model(net, to_file='network_structure.png', show_shapes=True)"
      ]
    },
    {
      "cell_type": "code",
      "execution_count": null,
      "metadata": {
        "colab": {
          "background_save": true,
          "base_uri": "https://localhost:8080/"
        },
        "id": "JwPcoklSsrmw",
        "outputId": "563f209d-bb21-40ae-e98a-87ed63c493c5"
      },
      "outputs": [
        {
          "name": "stdout",
          "output_type": "stream",
          "text": [
            "Epoch 1/20\n",
            "235/235 [==============================] - 239s 1s/step - loss: 0.2951 - val_loss: 1.4250\n",
            "Epoch 2/20\n",
            "235/235 [==============================] - 237s 1s/step - loss: 0.0720 - val_loss: 0.0661\n",
            "Epoch 3/20\n",
            "235/235 [==============================] - 236s 1s/step - loss: 0.0521 - val_loss: 0.0223\n",
            "Epoch 4/20\n",
            "235/235 [==============================] - 237s 1s/step - loss: 0.0419 - val_loss: 0.0232\n",
            "Epoch 5/20\n",
            "235/235 [==============================] - 236s 1s/step - loss: 0.0359 - val_loss: 0.0235\n",
            "Epoch 6/20\n",
            "235/235 [==============================] - 236s 1s/step - loss: 0.0302 - val_loss: 0.0193\n",
            "Epoch 7/20\n",
            "235/235 [==============================] - 236s 1s/step - loss: 0.0291 - val_loss: 0.0195\n",
            "Epoch 8/20\n",
            "235/235 [==============================] - 241s 1s/step - loss: 0.0268 - val_loss: 0.0189\n",
            "Epoch 9/20\n",
            "235/235 [==============================] - 237s 1s/step - loss: 0.0242 - val_loss: 0.0182\n",
            "Epoch 10/20\n",
            "235/235 [==============================] - 237s 1s/step - loss: 0.0225 - val_loss: 0.0265\n",
            "Epoch 11/20\n",
            "235/235 [==============================] - 237s 1s/step - loss: 0.0184 - val_loss: 0.0189\n",
            "Epoch 12/20\n",
            "235/235 [==============================] - 236s 1s/step - loss: 0.0208 - val_loss: 0.0204\n",
            "Epoch 13/20\n",
            "235/235 [==============================] - 235s 1s/step - loss: 0.0175 - val_loss: 0.0189\n",
            "Epoch 14/20\n",
            "235/235 [==============================] - 235s 998ms/step - loss: 0.0172 - val_loss: 0.0251\n",
            "Epoch 15/20\n",
            "235/235 [==============================] - 235s 1s/step - loss: 0.0170 - val_loss: 0.0194\n",
            "Epoch 16/20\n",
            "235/235 [==============================] - 236s 1s/step - loss: 0.0162 - val_loss: 0.0192\n",
            "Epoch 17/20\n",
            "235/235 [==============================] - 235s 999ms/step - loss: 0.0155 - val_loss: 0.0204\n",
            "Epoch 18/20\n",
            "235/235 [==============================] - 235s 1s/step - loss: 0.0139 - val_loss: 0.0181\n",
            "Epoch 19/20\n",
            "235/235 [==============================] - 234s 997ms/step - loss: 0.0148 - val_loss: 0.0214\n",
            "Epoch 20/20\n",
            "235/235 [==============================] - 235s 1s/step - loss: 0.0136 - val_loss: 0.0172\n"
          ]
        }
      ],
      "source": [
        "net.compile(loss='categorical_crossentropy', optimizer='adam')\n",
        "history = net.fit(x_train, y_train,\n",
        "validation_data=(x_test, y_test),\n",
        " epochs=20,\n",
        " batch_size=256)"
      ]
    },
    {
      "cell_type": "code",
      "execution_count": null,
      "metadata": {
        "id": "1uzW_ePTy9Vd"
      },
      "outputs": [],
      "source": []
    },
    {
      "cell_type": "code",
      "execution_count": null,
      "metadata": {
        "colab": {
          "base_uri": "https://localhost:8080/",
          "height": 297
        },
        "id": "q07C8mFZxBaa",
        "outputId": "e6727f60-ed28-4679-8fa0-77d9fd4f8e7f"
      },
      "outputs": [
        {
          "data": {
            "text/plain": [
              "<matplotlib.legend.Legend at 0x7fc1df8bc190>"
            ]
          },
          "execution_count": 14,
          "metadata": {},
          "output_type": "execute_result"
        },
        {
          "data": {
            "image/png": "[encoded data removed]",
            "text/plain": [
              "<Figure size 432x288 with 1 Axes>"
            ]
          },
          "metadata": {},
          "output_type": "display_data"
        }
      ],
      "source": [
        "import matplotlib.pyplot as plt\n",
        "plt.figure()\n",
        "plt.plot(history.history['loss'], label='training loss')\n",
        "plt.plot(history.history['val_loss'], label='validation loss')\n",
        "plt.xlabel('epochs')\n",
        "plt.ylabel('loss')\n",
        "plt.legend()"
      ]
    },
    {
      "cell_type": "code",
      "execution_count": null,
      "metadata": {
        "id": "2AUfIDk71nTY"
      },
      "outputs": [],
      "source": [
        "#A trained network can be saved to disk using:\n",
        "net.save(\"network_for_mnist.h5\")\n"
      ]
    },
    {
      "cell_type": "code",
      "execution_count": null,
      "metadata": {
        "id": "XwwS0KDj1s3g"
      },
      "outputs": [],
      "source": [
        "#A saved model can be reloaded using:\n",
        "from tensorflow.keras.models import load_model\n",
        "net=load_model(\"network_for_mnist.h5\")\n"
      ]
    },
    {
      "cell_type": "code",
      "execution_count": null,
      "metadata": {
        "colab": {
          "base_uri": "https://localhost:8080/"
        },
        "id": "CBaKpXcWy-ue",
        "outputId": "980ed11c-a809-41e4-d1b2-f01b7e577d0f"
      },
      "outputs": [
        {
          "name": "stdout",
          "output_type": "stream",
          "text": [
            "Percentage misclassified =  0.61\n"
          ]
        }
      ],
      "source": [
        "outputs=net.predict(x_test)\n",
        "labels_predicted=np.argmax(outputs, axis=1)\n",
        "misclassified=sum(labels_predicted!=labels_test)\n",
        "print('Percentage misclassified = ',100*misclassified/labels_test.size)\n",
        "\n"
      ]
    },
    {
      "cell_type": "code",
      "execution_count": null,
      "metadata": {
        "colab": {
          "base_uri": "https://localhost:8080/",
          "height": 172
        },
        "id": "KdM0Rqiy24QP",
        "outputId": "c23fe1bc-b942-42f1-beed-7dd7e3465b65"
      },
      "outputs": [
        {
          "data": {
            "image/png": "[encoded data removed]",
            "text/plain": [
              "<Figure size 576x144 with 16 Axes>"
            ]
          },
          "metadata": {},
          "output_type": "display_data"
        }
      ],
      "source": [
        "plt.figure(figsize=(8, 2))\n",
        "for i in range(0,8):\n",
        " ax=plt.subplot(2,8,i+1)\n",
        " plt.imshow(x_test[i,:].reshape(28,28), cmap=plt.get_cmap('gray_r'))\n",
        " plt.title(labels_test[i])\n",
        " ax.get_xaxis().set_visible(False)\n",
        " ax.get_yaxis().set_visible(False)\n",
        "for i in range(0,8):\n",
        "    #output = net.predict(x_test[i,:].reshape(1, 784)) #if MLP\n",
        "    output = net.predict(x_test[i,:].reshape(1, 28,28,1)) #if CNN\n",
        "    output=output[0,0:]\n",
        "    plt.subplot(2,8,8+i+1)\n",
        "    plt.bar(np.arange(10.),output)\n",
        "    plt.title(np.argmax(output))"
      ]
    },
    {
      "cell_type": "code",
      "execution_count": null,
      "metadata": {
        "colab": {
          "base_uri": "https://localhost:8080/"
        },
        "id": "e8FeWJHz4U3-",
        "outputId": "5d321cf1-4371-4fa7-92b2-0fa4e13685fb"
      },
      "outputs": [
        {
          "name": "stdout",
          "output_type": "stream",
          "text": [
            "/content\n",
            "network_for_mnist.h5\n",
            "Model: \"sequential\"\n",
            "_________________________________________________________________\n",
            " Layer (type)                Output Shape              Param #   \n",
            "=================================================================\n",
            " conv2d (Conv2D)             (None, 26, 26, 32)        320       \n",
            "                                                                 \n",
            " batch_normalization (BatchN  (None, 26, 26, 32)       128       \n",
            " ormalization)                                                   \n",
            "                                                                 \n",
            " conv2d_1 (Conv2D)           (None, 24, 24, 32)        9248      \n",
            "                                                                 \n",
            " batch_normalization_1 (Batc  (None, 24, 24, 32)       128       \n",
            " hNormalization)                                                 \n",
            "                                                                 \n",
            " conv2d_2 (Conv2D)           (None, 12, 12, 32)        25632     \n",
            "                                                                 \n",
            " batch_normalization_2 (Batc  (None, 12, 12, 32)       128       \n",
            " hNormalization)                                                 \n",
            "                                                                 \n",
            " dropout (Dropout)           (None, 12, 12, 32)        0         \n",
            "                                                                 \n",
            " conv2d_3 (Conv2D)           (None, 10, 10, 64)        18496     \n",
            "                                                                 \n",
            " batch_normalization_3 (Batc  (None, 10, 10, 64)       256       \n",
            " hNormalization)                                                 \n",
            "                                                                 \n",
            " conv2d_4 (Conv2D)           (None, 8, 8, 64)          36928     \n",
            "                                                                 \n",
            " batch_normalization_4 (Batc  (None, 8, 8, 64)         256       \n",
            " hNormalization)                                                 \n",
            "                                                                 \n",
            " conv2d_5 (Conv2D)           (None, 4, 4, 64)          102464    \n",
            "                                                                 \n",
            " batch_normalization_5 (Batc  (None, 4, 4, 64)         256       \n",
            " hNormalization)                                                 \n",
            "                                                                 \n",
            " dropout_1 (Dropout)         (None, 4, 4, 64)          0         \n",
            "                                                                 \n",
            " conv2d_6 (Conv2D)           (None, 1, 1, 128)         131200    \n",
            "                                                                 \n",
            " batch_normalization_6 (Batc  (None, 1, 1, 128)        512       \n",
            " hNormalization)                                                 \n",
            "                                                                 \n",
            " flatten (Flatten)           (None, 128)               0         \n",
            "                                                                 \n",
            " dropout_2 (Dropout)         (None, 128)               0         \n",
            "                                                                 \n",
            " dense (Dense)               (None, 10)                1290      \n",
            "                                                                 \n",
            "=================================================================\n",
            "Total params: 327,242\n",
            "Trainable params: 326,410\n",
            "Non-trainable params: 832\n",
            "_________________________________________________________________\n",
            "Percentage correctly classified MNIST= 99.39\n"
          ]
        }
      ],
      "source": [
        "import numpy as np\n",
        "import os\n",
        "from tensorflow.keras.models import load_model\n",
        "#load .h5 file of arbitrary name for testing (last if more than one)\n",
        "print(os.getcwd())\n",
        "for file in os.listdir(os.getcwd()):\n",
        " if file.endswith(\".h5\"):\n",
        "    print(file)\n",
        "    net=load_model(file)\n",
        "net.summary()\n",
        "#determine what type of network this is\n",
        "conf=net.layers[0].get_config()\n",
        "inshape=conf['batch_input_shape']\n",
        "if inshape[1]==28:\n",
        " netType='CNN'\n",
        "else:\n",
        " netType='MLP'\n",
        "#test with MNIST data\n",
        "from tensorflow.keras.datasets import mnist\n",
        "(x_train, labels_train), (x_test, labels_test) = mnist.load_data()\n",
        "x_test = x_test.astype('float32')\n",
        "x_test /= 255\n",
        "if netType in ['MLP']:\n",
        " x_test = x_test.reshape(10000, 784)\n",
        "else:\n",
        " x_test = x_test.reshape(x_test.shape[0], 28, 28, 1)\n",
        "\n",
        " outputs=net.predict(x_test)\n",
        "labels_predicted=np.argmax(outputs, axis=1)\n",
        "correct_classified=sum(labels_predicted==labels_test)\n",
        "print('Percentage correctly classified MNIST=',100*correct_classified/labels_test.size)"
      ]
    },
    {
      "cell_type": "code",
      "execution_count": null,
      "metadata": {
        "id": "MvxIpEZm20OY"
      },
      "outputs": [],
      "source": []
    }
  ],
  "metadata": {
    "colab": {
      "collapsed_sections": [],
      "name": "Copy of PNN_miniproj.ipynb",
      "provenance": []
    },
    "kernelspec": {
      "display_name": "Python 3",
      "name": "python3"
    },
    "language_info": {
      "name": "python"
    }
  },
  "nbformat": 4,
  "nbformat_minor": 0
}